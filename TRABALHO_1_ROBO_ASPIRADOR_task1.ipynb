{
  "nbformat": 4,
  "nbformat_minor": 0,
  "metadata": {
    "colab": {
      "provenance": [],
      "include_colab_link": true
    },
    "kernelspec": {
      "name": "python3",
      "display_name": "Python 3"
    },
    "language_info": {
      "name": "python"
    }
  },
  "cells": [
    {
      "cell_type": "markdown",
      "metadata": {
        "id": "view-in-github",
        "colab_type": "text"
      },
      "source": [
        "<a href=\"https://colab.research.google.com/github/gabereboucas/BioSPPy/blob/master/TRABALHO_1_ROBO_ASPIRADOR_task1.ipynb\" target=\"_parent\"><img src=\"https://colab.research.google.com/assets/colab-badge.svg\" alt=\"Open In Colab\"/></a>"
      ]
    },
    {
      "cell_type": "markdown",
      "source": [
        "### **Intelligent Agents: Reflex-Based Agents for the Vacuum-cleaner World**\n",
        "\n"
      ],
      "metadata": {
        "id": "JctPqGwlqQlV"
      }
    },
    {
      "cell_type": "markdown",
      "source": [
        "Student Name: Nathalia David Borges 201811902022"
      ],
      "metadata": {
        "id": "SBzpTZrgqVYe"
      }
    },
    {
      "cell_type": "code",
      "source": [
        "#import numpy as np: bom para algebra linear, vetorizar coisas, multiplicações de vetores [a,b,c][d,e,f] biblioteca numpy multiplica de uma vez axd bxe\n",
        "\n",
        "import numpy as np\n",
        "\n",
        "actions = [\"north\", \"east\", \"west\", \"south\", \"suck\"]\n",
        "\n",
        "def simple_randomized_agent(bumpers, dirty): #recebe percepção dos sensores #função que define agente\n",
        "    return np.random.choice(actions) #toma ação aleatoria, função random uma opção dentro dos 5 vetores"
      ],
      "metadata": {
        "id": "PootCMGirvIg"
      },
      "execution_count": 1,
      "outputs": []
    },
    {
      "cell_type": "code",
      "source": [
        "# define percepts (current location is NW corner and it is dirty) #teste\n",
        "bumpers = {\"north\" : True, \"east\" : False, \"south\" : False, \"west\" : True} #norte livre leste tem parede sul tem parede oeste livre \n",
        "dirty = True\n",
        "\n",
        "# call agent program function with percepts and it returns an action\n",
        "simple_randomized_agent(bumpers, dirty)\n",
        "#executa ação aleatoria"
      ],
      "metadata": {
        "colab": {
          "base_uri": "https://localhost:8080/",
          "height": 35
        },
        "id": "2KPXeXqgsAAp",
        "outputId": "eec52e18-6f77-41d4-b950-16a976adeb4c"
      },
      "execution_count": 2,
      "outputs": [
        {
          "output_type": "execute_result",
          "data": {
            "text/plain": [
              "'north'"
            ],
            "application/vnd.google.colaboratory.intrinsic+json": {
              "type": "string"
            }
          },
          "metadata": {},
          "execution_count": 2
        }
      ]
    },
    {
      "cell_type": "markdown",
      "source": [
        "Simple environment example"
      ],
      "metadata": {
        "id": "oODjSoq8sV6M"
      }
    },
    {
      "cell_type": "code",
      "source": [
        "#ambiente mais simples possivel \n",
        "#bumpers: sensor de colisão \n",
        "\n",
        "def simple_environment(agent, max_steps, verbose = True):\n",
        "    num_cleaned = 0\n",
        "    \n",
        "    for i in range(max_steps):\n",
        "        dirty = True\n",
        "        bumpers = {\"north\" : False, \"south\" : False, \"west\" : False, \"east\" : False}\n",
        "\n",
        "        action = agent(bumpers, dirty)\n",
        "        if (verbose): print(\"step\", i , \"- action:\", action) \n",
        "        \n",
        "        if (action == \"suck\"): #se ação for aspirar mede o desempenho \n",
        "            num_cleaned = num_cleaned + 1\n",
        "        \n",
        "    return num_cleaned"
      ],
      "metadata": {
        "id": "HcjlwfFAsLjr"
      },
      "execution_count": 3,
      "outputs": []
    },
    {
      "cell_type": "markdown",
      "source": [
        "CRIAR UMA SIMULAÇÃO COM UMA SIMPLES RANDOMIZAÇÃO QUE FAÇA 20 STEPS"
      ],
      "metadata": {
        "id": "RsQir-TzshKm"
      }
    },
    {
      "cell_type": "code",
      "source": [
        "simple_environment(simple_randomized_agent, max_steps = 20) #função do agente aleatorio, ações"
      ],
      "metadata": {
        "id": "LEYWxOg0sTsl",
        "outputId": "acc10303-4b51-4e8c-d53a-f68dfa5eb18f",
        "colab": {
          "base_uri": "https://localhost:8080/"
        }
      },
      "execution_count": 4,
      "outputs": [
        {
          "output_type": "stream",
          "name": "stdout",
          "text": [
            "step 0 - action: south\n",
            "step 1 - action: east\n",
            "step 2 - action: south\n",
            "step 3 - action: east\n",
            "step 4 - action: west\n",
            "step 5 - action: south\n",
            "step 6 - action: east\n",
            "step 7 - action: south\n",
            "step 8 - action: south\n",
            "step 9 - action: west\n",
            "step 10 - action: west\n",
            "step 11 - action: south\n",
            "step 12 - action: north\n",
            "step 13 - action: south\n",
            "step 14 - action: west\n",
            "step 15 - action: south\n",
            "step 16 - action: north\n",
            "step 17 - action: east\n",
            "step 18 - action: south\n",
            "step 19 - action: north\n"
          ]
        },
        {
          "output_type": "execute_result",
          "data": {
            "text/plain": [
              "0"
            ]
          },
          "metadata": {},
          "execution_count": 4
        }
      ]
    },
    {
      "cell_type": "markdown",
      "source": [
        "# Task 1"
      ],
      "metadata": {
        "id": "Yy-ncuGHs1Rf"
      }
    },
    {
      "cell_type": "markdown",
      "source": [
        "Criar uma matriz 5x5 para um ambiente real"
      ],
      "metadata": {
        "id": "6UJ1YYahtabs"
      }
    },
    {
      "cell_type": "markdown",
      "source": [
        "Primeiro matriz de numeros reais depois transformar em matriz booleanos, <80%"
      ],
      "metadata": {
        "id": "KmtJ0h9EtqvO"
      }
    },
    {
      "cell_type": "code",
      "source": [
        "def convert_to_boolean(x, prob=0.2): #transforma a matriz em booleano \n",
        "  return True  if x < prob  else False # x<0.2"
      ],
      "metadata": {
        "id": "YMIWtwfSuJTy"
      },
      "execution_count": 5,
      "outputs": []
    },
    {
      "cell_type": "code",
      "source": [
        "import numpy as np\n",
        "def create_environment(dim=5, prob=0.2): #dimensão da matriz e probabilidade para executar função que define o ambiente \n",
        "  matrix=np.random.random((dim,dim)) #cria matriz aleatoria \n",
        "  func_vectorized=np.vectorize(convert_to_boolean) #vetorizar a função que recebe numero e retorna um valor se verdadeiro ou falso \n",
        "  matrix= func_vectorized(matrix) #aplica a função na matriz, acada elemento vai chamar a função \n",
        "  return matrix"
      ],
      "metadata": {
        "id": "w71CjE4AuLX5"
      },
      "execution_count": 6,
      "outputs": []
    },
    {
      "cell_type": "code",
      "source": [
        "environment = create_environment() #teste\n",
        "print(environment) #imprimir a matriz em boleanos "
      ],
      "metadata": {
        "colab": {
          "base_uri": "https://localhost:8080/"
        },
        "id": "ONKbir0zuNRa",
        "outputId": "481079ad-c246-4351-fe54-318f316c636b"
      },
      "execution_count": 7,
      "outputs": [
        {
          "output_type": "stream",
          "name": "stdout",
          "text": [
            "[[False False False  True False]\n",
            " [False False False False False]\n",
            " [False False False  True False]\n",
            " [False  True False False False]\n",
            " [False False False False False]]\n"
          ]
        }
      ]
    },
    {
      "cell_type": "markdown",
      "source": [
        "Definir uma função que vai retornar a função do agente, agent percepctrion, percebe o ambiente e a posiçãio que o agente esta"
      ],
      "metadata": {
        "id": "hhAA4LF_uWsB"
      }
    },
    {
      "cell_type": "code",
      "source": [
        "position = np.random.randint(0, 5, 2) #vetor de duas posiççoes definidos aleatoriamentes #vetor que define posição  np.array([0,0]) definir como aleatoria randint\n",
        "print(position[0]) #x\n",
        "print(position[1]) #y"
      ],
      "metadata": {
        "colab": {
          "base_uri": "https://localhost:8080/"
        },
        "id": "XKdKjldmubz7",
        "outputId": "97c8771b-59d9-4830-8c00-b12b90b493f0"
      },
      "execution_count": 8,
      "outputs": [
        {
          "output_type": "stream",
          "name": "stdout",
          "text": [
            "3\n",
            "1\n"
          ]
        }
      ]
    },
    {
      "cell_type": "code",
      "source": [
        "position.shape"
      ],
      "metadata": {
        "colab": {
          "base_uri": "https://localhost:8080/"
        },
        "id": "tMDcmTUvuhdU",
        "outputId": "274280b3-0781-45e0-a24d-95c5b7c796a9"
      },
      "execution_count": 9,
      "outputs": [
        {
          "output_type": "execute_result",
          "data": {
            "text/plain": [
              "(2,)"
            ]
          },
          "metadata": {},
          "execution_count": 9
        }
      ]
    },
    {
      "cell_type": "code",
      "source": [
        "environment.shape[0]"
      ],
      "metadata": {
        "colab": {
          "base_uri": "https://localhost:8080/"
        },
        "id": "kiJPxC-hui-E",
        "outputId": "a5745062-d38f-455b-b349-ba128d9a5a11"
      },
      "execution_count": 10,
      "outputs": [
        {
          "output_type": "execute_result",
          "data": {
            "text/plain": [
              "5"
            ]
          },
          "metadata": {},
          "execution_count": 10
        }
      ]
    },
    {
      "cell_type": "code",
      "source": [
        "def agent_perception(environment, position): #função que retorna percepção do agente e posição do agente \n",
        "  north, south, east, west = True, True, True, True #def variaveis e atribui verdadeiro como posições livres para mmovimentação\n",
        "  x, y = position[0], position[1] #posição do vet\n",
        "  dim= environment.shape[0] #dimensao da mat\n",
        "  dirty = environment[x][y] #indicar se ta sujo ou n \n",
        "  if x == 0: #com base onde ele esta vai indicar onde ele pode se movimentar ou nao \n",
        "    west =  False\n",
        "  if x == dim - 1:\n",
        "    east = False \n",
        "  if y == 0:\n",
        "    north = False \n",
        "  if y == dim - 1:\n",
        "    south = False \n",
        "  perceptions = { #dicionario de percepcoes \n",
        "      \"north\" : north,\n",
        "      \"south\" : south,\n",
        "      \"east\" : east,\n",
        "      \"west\" : west,\n",
        "  }\n",
        "  return perceptions, dirty "
      ],
      "metadata": {
        "id": "MOtj-t9iulA8"
      },
      "execution_count": 11,
      "outputs": []
    },
    {
      "cell_type": "code",
      "source": [
        "agent_perception(environment, position)"
      ],
      "metadata": {
        "colab": {
          "base_uri": "https://localhost:8080/"
        },
        "id": "ZTCKhdPculzr",
        "outputId": "47803a50-ffef-4b23-8195-34051f6e6b8a"
      },
      "execution_count": 12,
      "outputs": [
        {
          "output_type": "execute_result",
          "data": {
            "text/plain": [
              "({'north': True, 'south': True, 'east': True, 'west': True}, True)"
            ]
          },
          "metadata": {},
          "execution_count": 12
        }
      ]
    },
    {
      "cell_type": "code",
      "source": [
        "#dirty e bumpers vire perceptions percepção do agnte \n",
        "def basic_environment(agent, max_steps, verbose = True):\n",
        "\n",
        "    num_cleaned = 0\n",
        "    environment= create_environment()\n",
        "    dim = environment.shape[0]\n",
        "    position= np.random.randint(0, dim, 2)\n",
        "    \n",
        "    for i in range(max_steps):\n",
        "        perceptions, dirty = agent_perception(environment, position)\n",
        "\n",
        "        action = agent(perceptions, dirty)\n",
        "        if (verbose): print(\"step {} - action {} - position {} - dirty {}\".format (i, action, position, dirty) )\n",
        "        \n",
        "        if action == \"suck\" and dirty:\n",
        "          environment[position[0]][position[1]] = False \n",
        "          num_cleaned += 1\n",
        "          cost += 1\n",
        "\n",
        "        if ((action == \"north\") and (perceptions ['north'])):\n",
        "          position[1] -= 1\n",
        "\n",
        "        if ((action == \"south\") and (perceptions ['south'])):\n",
        "          position[1] += 1\n",
        "        \n",
        "        if ((action == \"east\") and (perceptions ['east'])):\n",
        "          position[1] += 1\n",
        "        \n",
        "        if ((action == \"west\") and (perceptions ['west'])):\n",
        "          position[1] -= 1\n",
        "    return num_cleaned"
      ],
      "metadata": {
        "id": "6e_jqMbAuuVO"
      },
      "execution_count": 27,
      "outputs": []
    },
    {
      "cell_type": "code",
      "source": [
        "basic_environment(simple_randomized_agent, max_steps=20)"
      ],
      "metadata": {
        "colab": {
          "base_uri": "https://localhost:8080/"
        },
        "id": "1GTKD6Rvu2s3",
        "outputId": "244a60ee-339c-4717-8b03-17187cbb5df9"
      },
      "execution_count": 24,
      "outputs": [
        {
          "output_type": "stream",
          "name": "stdout",
          "text": [
            "step 0 - action south - position [1 0] - dirty False\n",
            "step 1 - action north - position [1 1] - dirty True\n",
            "step 2 - action west - position [1 0] - dirty False\n",
            "step 3 - action west - position [ 1 -1] - dirty False\n",
            "step 4 - action north - position [ 1 -2] - dirty False\n",
            "step 5 - action east - position [ 1 -3] - dirty False\n",
            "step 6 - action east - position [ 1 -2] - dirty False\n",
            "step 7 - action west - position [ 1 -1] - dirty False\n",
            "step 8 - action east - position [ 1 -2] - dirty False\n",
            "step 9 - action south - position [ 1 -1] - dirty False\n",
            "step 10 - action east - position [1 0] - dirty False\n",
            "step 11 - action south - position [1 1] - dirty True\n",
            "step 12 - action north - position [1 2] - dirty False\n",
            "step 13 - action north - position [1 1] - dirty True\n",
            "step 14 - action suck - position [1 0] - dirty False\n",
            "step 15 - action east - position [1 0] - dirty False\n",
            "step 16 - action south - position [1 1] - dirty True\n",
            "step 17 - action east - position [1 2] - dirty False\n",
            "step 18 - action south - position [1 3] - dirty False\n",
            "step 19 - action north - position [1 4] - dirty False\n"
          ]
        },
        {
          "output_type": "execute_result",
          "data": {
            "text/plain": [
              "0"
            ]
          },
          "metadata": {},
          "execution_count": 24
        }
      ]
    },
    {
      "cell_type": "code",
      "source": [
        "#agente aleatorio\n",
        "import numpy as np\n",
        "\n",
        "actions = [\"north\", \"east\", \"west\", \"south\", \"suck\"]\n",
        "\n",
        "def basic_agent(perceptions, dirty): \n",
        "  if (dirty):\n",
        "    return \"suck\"\n",
        "    return np.random.choice(actions) #toma ação aleatoria, função random uma opção dentro dos 5 vetores"
      ],
      "metadata": {
        "id": "5BBiFsSru5aQ"
      },
      "execution_count": null,
      "outputs": []
    },
    {
      "cell_type": "code",
      "source": [
        "basic_environment(simple_randomized_agent, max_steps=20) #limite de 20 passos 20 ações "
      ],
      "metadata": {
        "colab": {
          "base_uri": "https://localhost:8080/"
        },
        "id": "XLBa8hl8u7P_",
        "outputId": "9d838312-d8d4-4477-ae66-4294afcfbe76"
      },
      "execution_count": 25,
      "outputs": [
        {
          "output_type": "stream",
          "name": "stdout",
          "text": [
            "step 0 - action west - position [4 3] - dirty False\n",
            "step 1 - action suck - position [4 2] - dirty False\n",
            "step 2 - action east - position [4 2] - dirty False\n",
            "step 3 - action suck - position [4 2] - dirty False\n",
            "step 4 - action north - position [4 2] - dirty False\n",
            "step 5 - action suck - position [4 1] - dirty False\n",
            "step 6 - action east - position [4 1] - dirty False\n",
            "step 7 - action west - position [4 1] - dirty False\n",
            "step 8 - action suck - position [4 0] - dirty False\n",
            "step 9 - action north - position [4 0] - dirty False\n",
            "step 10 - action south - position [4 0] - dirty False\n",
            "step 11 - action suck - position [4 1] - dirty False\n",
            "step 12 - action east - position [4 1] - dirty False\n",
            "step 13 - action north - position [4 1] - dirty False\n",
            "step 14 - action east - position [4 0] - dirty False\n",
            "step 15 - action east - position [4 0] - dirty False\n",
            "step 16 - action suck - position [4 0] - dirty False\n",
            "step 17 - action north - position [4 0] - dirty False\n",
            "step 18 - action west - position [4 0] - dirty False\n",
            "step 19 - action west - position [ 4 -1] - dirty False\n"
          ]
        },
        {
          "output_type": "execute_result",
          "data": {
            "text/plain": [
              "0"
            ]
          },
          "metadata": {},
          "execution_count": 25
        }
      ]
    },
    {
      "cell_type": "markdown",
      "source": [
        "# Task 2: Implement a simple reflex agent "
      ],
      "metadata": {
        "id": "86rQmKQov1eW"
      }
    },
    {
      "cell_type": "markdown",
      "source": [
        "# Task 3: Implement a model-based reflex agent "
      ],
      "metadata": {
        "id": "AqxNsr9uvwWV"
      }
    },
    {
      "cell_type": "markdown",
      "source": [
        "# Task 4: Simulation study "
      ],
      "metadata": {
        "id": "2oTJCJehwAEo"
      }
    },
    {
      "cell_type": "markdown",
      "source": [
        "# Task 5: Robustness of the agent implementations"
      ],
      "metadata": {
        "id": "pWUKlYpCwBUY"
      }
    }
  ]
}